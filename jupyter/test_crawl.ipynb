{
 "cells": [
  {
   "cell_type": "code",
   "execution_count": null,
   "metadata": {},
   "outputs": [],
   "source": [
    "import argparse\n",
    "import toml\n",
    "import datetime\n",
    "import requests\n",
    "from fake_useragent import UserAgent\n",
    "from random import uniform\n",
    "from time import sleep\n",
    "from bs4 import BeautifulSoup\n",
    "from bs4 import element\n",
    "import re"
   ]
  },
  {
   "cell_type": "code",
   "execution_count": null,
   "metadata": {},
   "outputs": [],
   "source": [
    "import asyncio"
   ]
  },
  {
   "cell_type": "code",
   "execution_count": null,
   "metadata": {},
   "outputs": [],
   "source": [
    "from requests_html import HTMLSession"
   ]
  },
  {
   "cell_type": "code",
   "execution_count": null,
   "metadata": {},
   "outputs": [],
   "source": [
    "from requests_html import AsyncHTMLSession"
   ]
  },
  {
   "cell_type": "code",
   "execution_count": null,
   "metadata": {},
   "outputs": [],
   "source": [
    "asess = AsyncHTMLSession()"
   ]
  },
  {
   "cell_type": "code",
   "execution_count": null,
   "metadata": {},
   "outputs": [],
   "source": [
    "article_url = ''"
   ]
  },
  {
   "cell_type": "code",
   "execution_count": null,
   "metadata": {},
   "outputs": [],
   "source": [
    "sess = HTMLSession()"
   ]
  },
  {
   "cell_type": "code",
   "execution_count": null,
   "metadata": {},
   "outputs": [],
   "source": [
    "res = sess.get(article_url, headers={\"User-Agent\": UserAgent().random})"
   ]
  },
  {
   "cell_type": "code",
   "execution_count": null,
   "metadata": {},
   "outputs": [],
   "source": [
    "res.html.render()"
   ]
  },
  {
   "cell_type": "code",
   "execution_count": null,
   "metadata": {},
   "outputs": [],
   "source": [
    "res = await asess.get(article_url, headers={\"User-Agent\": UserAgent().random})"
   ]
  },
  {
   "cell_type": "code",
   "execution_count": null,
   "metadata": {},
   "outputs": [],
   "source": [
    "res.html.text"
   ]
  },
  {
   "cell_type": "code",
   "execution_count": null,
   "metadata": {},
   "outputs": [],
   "source": [
    "soup = BeautifulSoup(req.content, \"html.parser\")"
   ]
  },
  {
   "cell_type": "code",
   "execution_count": null,
   "metadata": {},
   "outputs": [],
   "source": [
    "req = requests.get(article_url, headers={\"User-Agent\": UserAgent().random})\n",
    "soup = BeautifulSoup(req.content, \"html.parser\")"
   ]
  },
  {
   "cell_type": "code",
   "execution_count": null,
   "metadata": {},
   "outputs": [],
   "source": [
    "soup"
   ]
  },
  {
   "cell_type": "code",
   "execution_count": null,
   "metadata": {},
   "outputs": [],
   "source": [
    "article = dict()\n",
    "\n",
    "article['title'] = soup.select_one(\"#articleTitle\")\n",
    "article['upload_time'] = \\\n",
    "        soup.select_one(\"#main_content > div.article_header > div.article_info > div > span:nth-child(1)\")\n",
    "article['modified_time'] = \\\n",
    "        soup.select_one(\"#main_content > div.article_header > div.article_info > div > span:nth-child(2)\")\n",
    "article['context'] = soup.select_one(\"#articleBodyContents\")\n",
    "article['category'] = soup.select_one(\"#articleBody > div.guide_categorization > a > em\")\n",
    "article['comment_cnt'] = soup.select_one(\"#cbox_module > div > div.u_cbox_head > a > span.u_cbox_count\")\n",
    "article['recommendation_cnt'] = soup.select_one(\"#toMainContainer > a > em.u_cnt._count\")\n",
    "article['likeit_cnt'] = soup.select_one(\"#main_content > div.article_header > div.article_info > div \"\n",
    "                        \"> div.article_btns > div.article_btns_left > div > a > span.u_likeit_text._count.num\")\n",
    "article['good'] = soup.select_one(\"#spiLayer > div._reactionModule.u_likeit > ul > li.u_likeit_list.good > a \"\n",
    "                                      \"> span.u_likeit_list_count._count\")\n",
    "article['warm'] = soup.select_one(\"#spiLayer > div._reactionModule.u_likeit > ul > li.u_likeit_list.warm > a \"\n",
    "                                      \"> span.u_likeit_list_count._count\")\n",
    "article['sad'] = soup.select_one(\"#spiLayer > div._reactionModule.u_likeit > ul > li.u_likeit_list.sad > a \"\n",
    "                                     \"> span.u_likeit_list_count._count\")\n",
    "article['angry'] = soup.select_one(\"#spiLayer > div._reactionModule.u_likeit > ul > li.u_likeit_list.angry > a \"\n",
    "                                       \"> span.u_likeit_list_count._count\")\n",
    "article['want'] = soup.select_one(\"#spiLayer > div._reactionModule.u_likeit > ul > li.u_likeit_list.want > a \"\n",
    "                                      \"> span.u_likeit_list_count._count\")\n",
    "\n",
    "for prop in article:\n",
    "    if type(article[prop]) is element.Tag:\n",
    "        article[prop] = article[prop].text"
   ]
  },
  {
   "cell_type": "code",
   "execution_count": null,
   "metadata": {},
   "outputs": [],
   "source": [
    "article"
   ]
  },
  {
   "cell_type": "code",
   "execution_count": null,
   "metadata": {},
   "outputs": [],
   "source": [
    "comment = dict()"
   ]
  },
  {
   "cell_type": "code",
   "execution_count": null,
   "metadata": {},
   "outputs": [],
   "source": [
    "soup.select(\"\")"
   ]
  },
  {
   "cell_type": "code",
   "execution_count": null,
   "metadata": {},
   "outputs": [],
   "source": [
    "soup"
   ]
  },
  {
   "cell_type": "code",
   "execution_count": null,
   "metadata": {},
   "outputs": [],
   "source": []
  }
 ],
 "metadata": {
  "kernelspec": {
   "display_name": "Python 3",
   "language": "python",
   "name": "python3"
  },
  "language_info": {
   "codemirror_mode": {
    "name": "ipython",
    "version": 3
   },
   "file_extension": ".py",
   "mimetype": "text/x-python",
   "name": "python",
   "nbconvert_exporter": "python",
   "pygments_lexer": "ipython3",
   "version": "3.6.10"
  }
 },
 "nbformat": 4,
 "nbformat_minor": 4
}
